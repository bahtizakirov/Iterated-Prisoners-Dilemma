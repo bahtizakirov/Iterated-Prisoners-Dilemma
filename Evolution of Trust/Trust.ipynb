{
 "cells": [
  {
   "cell_type": "code",
   "execution_count": 42,
   "metadata": {},
   "outputs": [],
   "source": [
    "import numpy as np\n",
    "from itertools import combinations\n",
    "import operator\n",
    "import matplotlib.pyplot as plt\n",
    "%matplotlib inline"
   ]
  },
  {
   "cell_type": "code",
   "execution_count": 55,
   "metadata": {},
   "outputs": [],
   "source": [
    "class player():\n",
    "    \"\"\"\n",
    "    \"\"\"\n",
    "    def __init__(self,strategy,index):\n",
    "        \"\"\"\n",
    "        \"\"\"\n",
    "        self.index = index\n",
    "        self.strategy = strategy\n",
    "        self.strategyhistory=[]\n",
    "        if (self.strategy=='AlCo'):\n",
    "            self.firstmove = 0\n",
    "        else:\n",
    "            self.firstmove = 1\n",
    "        self.score = 0\n",
    "    def calculatenextmove(self,lastoutcome):\n",
    "        \"\"\"\n",
    "        params:\n",
    "        --------\n",
    "        lastoutcome: 2-tuple of ints\n",
    "        Payoffs of the last game. \n",
    "        \"\"\"\n",
    "        self.nextmove = strategylogic(self.strategy,lastoutcome)\n",
    "            \n",
    "        \n",
    "        \n",
    "        \n",
    "class game():\n",
    "    \"\"\"\n",
    "    \"\"\"\n",
    "    def __init__(self,initialstrategies=[1,1,1,1,1,1],payoffmatrixdict={(0,0):(2,2),(0,1):(-1,3),(1,0):(3,-1),(1,1):(0,0)}):\n",
    "        \"\"\"\n",
    "        Declare N Players, declare payoff matrix of game\n",
    "        params\n",
    "        --------\n",
    "        initialstrategies: list of ints. Length number of strategies.\n",
    "            number of each type of initial strategy in the following order:Alco Alch CCat Ckit Rand Simpl\n",
    "        \"\"\"\n",
    "        self.players = [0]*sum(initialstrategies)\n",
    "        for i in range(initialstrategies[0]):\n",
    "            self.players[i] = player('AlCo',i)\n",
    "        for i in range(initialstrategies[0],initialstrategies[0]+initialstrategies[1]):\n",
    "            self.players[i] = player('AlCh',i)\n",
    "        for i in range(initialstrategies[0]+initialstrategies[1],initialstrategies[0]+initialstrategies[1]+initialstrategies[2]):\n",
    "            self.players[i] = player('CCat',i)\n",
    "        for i in range(initialstrategies[0]+initialstrategies[1]+initialstrategies[2],initialstrategies[0]+initialstrategies[1]+initialstrategies[2]+initialstrategies[3]):\n",
    "            self.players[i] = player('CKit',i)\n",
    "        for i in range(initialstrategies[0]+initialstrategies[1]+initialstrategies[2]+initialstrategies[3],initialstrategies[0]+initialstrategies[1]+initialstrategies[2]+initialstrategies[3]+initialstrategies[4]):\n",
    "            self.players[i] = player('Rand',i)\n",
    "        for i in range(initialstrategies[0]+initialstrategies[1]+initialstrategies[2]+initialstrategies[3]+initialstrategies[4],initialstrategies[0]+initialstrategies[1]+initialstrategies[2]+initialstrategies[3]+initialstrategies[4]+initialstrategies[5]):\n",
    "            self.players[i] = player('Simpl',i)\n",
    "        self.payoffmatrixdict = payoffmatrixdict\n",
    "    def step(self,ntimes=1,ncutoff=5,gamespermatch=5):\n",
    "        \"\"\"\n",
    "            Play every played with every other player.\n",
    "            Replacelosers\n",
    "        Ntimes\n",
    "        \"\"\"\n",
    "        for _ in range(ntimes):\n",
    "            for (a,b) in list(combinations(range(len(self.players)),2)):\n",
    "                 self.play(self.players[a],self.players[b],gamespermatch)\n",
    "\n",
    "            self.replacelosers(ncutoff)\n",
    "            self.resetscores()\n",
    "        \n",
    "    def replacelosers(self,ncutoff):\n",
    "        \"\"\"\n",
    "    \n",
    "     \n",
    "        -Rank Players by score\n",
    "        -Find ncutoff worst\n",
    "        -Have them change their strategies to that of five best. Change their firstmove too.\n",
    "        \n",
    "        histories:\n",
    "        Nplayers x Nsteps list of the strategies of each player.\n",
    "        \n",
    "        \"\"\"\n",
    "        for player in self.players:\n",
    "            player.strategyhistory.append(player.strategy)\n",
    "        self.players.sort(key=operator.attrgetter('score'))   #TURN INTO NP.SORT\n",
    "        for i in range(1,ncutoff):\n",
    "            self.players[-i].strategy = self.players[i].strategy\n",
    "            self.players[-i].firstmove = self.players[i].firstmove#index a list into a numpy array\n",
    "    def play(self,player1,player2,nturns=5):\n",
    "        \"\"\"\n",
    "        \"\"\"\n",
    "        outcomeslist = []\n",
    "        outcome = self.payoffmatrixdict[player1.firstmove,player2.firstmove]\n",
    "        outcomeslist.append(outcome)\n",
    "        backwardlist = [outcome[::-1]]\n",
    "        player1.score += outcome[0]\n",
    "        player2.score += outcome[1]\n",
    "        for _ in range(nturns):\n",
    "            player1.calculatenextmove(outcomeslist)\n",
    "            player2.calculatenextmove(backwardlist)\n",
    "            outcomeslist.append(outcome)\n",
    "            backwardlist.append(outcome[::-1])\n",
    "            outcome = self.payoffmatrixdict[player1.nextmove,player2.nextmove]\n",
    "            player1.score += outcome[0]\n",
    "            player2.score += outcome[1]\n",
    "    def resetscores(self):\n",
    "        \"\"\"\n",
    "        Sets all player scores to 0.\n",
    "        This function exists because maybe one day I'll want a history of scores saved.\n",
    "        \"\"\"\n",
    "        for player in self.players:\n",
    "            player.score=0\n",
    "    def draw_activity(self):\n",
    "        \"\"\"\n",
    "        Plots the histories of the agents\n",
    "        \n",
    "        \"\"\"\n",
    "        self.histories = [player.strategyhistory for player in self.players]\n",
    "        states = np.vstack(self.histories).T\n",
    "        fig = plt.figure(figsize=(16, 8))\n",
    "        plt.imshow(states, origin='upper',cmap='Greys',interpolation='None')\n"
   ]
  },
  {
   "cell_type": "code",
   "execution_count": 44,
   "metadata": {},
   "outputs": [],
   "source": [
    "# def play(player1,player2, nturns=5):\n",
    "#     \"\"\"\n",
    "#     Plays one prisoners dilemma match which consists of nturns steps\n",
    "#     \"\"\"\n",
    "#     outcomeslist = []\n",
    "#     outcome = self.payoffmatrixdict[player1.firstmove,player2.firstmove]\n",
    "#     outcomeslist.append(outcome)\n",
    "#     backwardlist = [outcome[::-1]]\n",
    "#     player1.score += outcome[0]\n",
    "#     player2.score += outcome[1]\n",
    "#     for _ in range(nturns):\n",
    "#         player1.calculatenextmove(outcomeslist)\n",
    "#         player2.calculatenextmove(backwardlist)\n",
    "#         outcomeslist.append(outcome)\n",
    "#         backwardlist.append(outcome[::-1])\n",
    "#         outcome = self.payoffmatrixdict[player1.nextmove,player2.nextmove]\n",
    "#         player1.score +=x outcome[0]\n",
    "#         player2.score += outcome[1]\n"
   ]
  },
  {
   "cell_type": "code",
   "execution_count": 45,
   "metadata": {},
   "outputs": [],
   "source": [
    "def strategylogic(strategy,history):\n",
    "    \"\"\"\n",
    "    strategy: String\n",
    "        Choice of Strategy\n",
    "    History: List of Tuples\n",
    "    The list of all past outcomes\n",
    "\n",
    "    \"\"\"\n",
    "    naught = {0:1,1:0}\n",
    "    reversepayoffmatrixdict={(2,2):(0,0),(-1,3):(0,1),(3,-1):(1,0),(0,0):(1,1)}\n",
    "    if (strategy== 'AlCo'):\n",
    "        return 0\n",
    "    elif (strategy== 'CCat'):\n",
    "        return reversepayoffmatrixdict[history[-1]][1]\n",
    "    elif (strategy== 'AlCh'):\n",
    "        return 1\n",
    "    elif (strategy== 'CKit'):\n",
    "        if (len(history)<2):\n",
    "            return 0\n",
    "        elif (reversepayoffmatrixdict[history[-1]][1]==1 and reversepayoffmatrixdict[history[-2]][1]==1):\n",
    "            return 1\n",
    "        else:\n",
    "            return 0\n",
    "            \n",
    "    elif (strategy== 'Rand'):\n",
    "        return np.random.randint(2)\n",
    "        \n",
    "    elif (strategy== 'Simpl'):\n",
    "        if (reversepayoffmatrixdict[history[-1]][1]==0):\n",
    "            return reversepayoffmatrixdict[history[-1]][0]\n",
    "        else:\n",
    "            return naught[reversepayoffmatrixdict[history[-1]][0]]\n",
    "#     elif (strategy== '')"
   ]
  },
  {
   "cell_type": "markdown",
   "metadata": {},
   "source": [
    "Player1 Player 2\n",
    "Cooperate or Defect?\n",
    "(0,0) -> (2,2)\n",
    "(0,1) -> (-1,3)\n",
    "(1,0) -> (3,-1)\n",
    "(1,1) -> (0,0)"
   ]
  },
  {
   "cell_type": "code",
   "execution_count": 53,
   "metadata": {},
   "outputs": [],
   "source": [
    "apple = game([10,3,4,3,2,3])"
   ]
  },
  {
   "cell_type": "code",
   "execution_count": 54,
   "metadata": {},
   "outputs": [
    {
     "ename": "ValueError",
     "evalue": "invalid literal for int() with base 10: 'AlCo'",
     "output_type": "error",
     "traceback": [
      "\u001b[0;31m---------------------------------------------------------------------------\u001b[0m",
      "\u001b[0;31mValueError\u001b[0m                                Traceback (most recent call last)",
      "\u001b[0;32m<ipython-input-54-2f48d6381f75>\u001b[0m in \u001b[0;36m<module>\u001b[0;34m()\u001b[0m\n\u001b[0;32m----> 1\u001b[0;31m \u001b[0mapple\u001b[0m\u001b[0;34m.\u001b[0m\u001b[0mstep\u001b[0m\u001b[0;34m(\u001b[0m\u001b[0;36m10\u001b[0m\u001b[0;34m,\u001b[0m\u001b[0;36m5\u001b[0m\u001b[0;34m,\u001b[0m\u001b[0;36m3\u001b[0m\u001b[0;34m)\u001b[0m\u001b[0;34m\u001b[0m\u001b[0m\n\u001b[0m",
      "\u001b[0;32m<ipython-input-52-fd7f1dca880b>\u001b[0m in \u001b[0;36mstep\u001b[0;34m(self, ntimes, ncutoff, gamespermatch)\u001b[0m\n\u001b[1;32m     60\u001b[0m                  \u001b[0mself\u001b[0m\u001b[0;34m.\u001b[0m\u001b[0mplay\u001b[0m\u001b[0;34m(\u001b[0m\u001b[0mself\u001b[0m\u001b[0;34m.\u001b[0m\u001b[0mplayers\u001b[0m\u001b[0;34m[\u001b[0m\u001b[0ma\u001b[0m\u001b[0;34m]\u001b[0m\u001b[0;34m,\u001b[0m\u001b[0mself\u001b[0m\u001b[0;34m.\u001b[0m\u001b[0mplayers\u001b[0m\u001b[0;34m[\u001b[0m\u001b[0mb\u001b[0m\u001b[0;34m]\u001b[0m\u001b[0;34m,\u001b[0m\u001b[0mgamespermatch\u001b[0m\u001b[0;34m)\u001b[0m\u001b[0;34m\u001b[0m\u001b[0m\n\u001b[1;32m     61\u001b[0m \u001b[0;34m\u001b[0m\u001b[0m\n\u001b[0;32m---> 62\u001b[0;31m             \u001b[0mself\u001b[0m\u001b[0;34m.\u001b[0m\u001b[0mreplacelosers\u001b[0m\u001b[0;34m(\u001b[0m\u001b[0mncutoff\u001b[0m\u001b[0;34m)\u001b[0m\u001b[0;34m\u001b[0m\u001b[0m\n\u001b[0m\u001b[1;32m     63\u001b[0m             \u001b[0mself\u001b[0m\u001b[0;34m.\u001b[0m\u001b[0mresetscores\u001b[0m\u001b[0;34m(\u001b[0m\u001b[0;34m)\u001b[0m\u001b[0;34m\u001b[0m\u001b[0m\n\u001b[1;32m     64\u001b[0m \u001b[0;34m\u001b[0m\u001b[0m\n",
      "\u001b[0;32m<ipython-input-52-fd7f1dca880b>\u001b[0m in \u001b[0;36mreplacelosers\u001b[0;34m(self, ncutoff)\u001b[0m\n\u001b[1;32m     76\u001b[0m         \"\"\"\n\u001b[1;32m     77\u001b[0m         \u001b[0;32mfor\u001b[0m \u001b[0mplayer\u001b[0m \u001b[0;32min\u001b[0m \u001b[0mself\u001b[0m\u001b[0;34m.\u001b[0m\u001b[0mplayers\u001b[0m\u001b[0;34m:\u001b[0m\u001b[0;34m\u001b[0m\u001b[0m\n\u001b[0;32m---> 78\u001b[0;31m             \u001b[0mplayer\u001b[0m\u001b[0;34m.\u001b[0m\u001b[0mstrategyhistory\u001b[0m\u001b[0;34m.\u001b[0m\u001b[0mappend\u001b[0m\u001b[0;34m(\u001b[0m\u001b[0mint\u001b[0m\u001b[0;34m(\u001b[0m\u001b[0mplayer\u001b[0m\u001b[0;34m.\u001b[0m\u001b[0mstrategy\u001b[0m\u001b[0;34m)\u001b[0m\u001b[0;34m)\u001b[0m\u001b[0;34m\u001b[0m\u001b[0m\n\u001b[0m\u001b[1;32m     79\u001b[0m         \u001b[0mself\u001b[0m\u001b[0;34m.\u001b[0m\u001b[0mplayers\u001b[0m\u001b[0;34m.\u001b[0m\u001b[0msort\u001b[0m\u001b[0;34m(\u001b[0m\u001b[0mkey\u001b[0m\u001b[0;34m=\u001b[0m\u001b[0moperator\u001b[0m\u001b[0;34m.\u001b[0m\u001b[0mattrgetter\u001b[0m\u001b[0;34m(\u001b[0m\u001b[0;34m'score'\u001b[0m\u001b[0;34m)\u001b[0m\u001b[0;34m)\u001b[0m   \u001b[0;31m#TURN INTO NP.SORT\u001b[0m\u001b[0;34m\u001b[0m\u001b[0m\n\u001b[1;32m     80\u001b[0m         \u001b[0;32mfor\u001b[0m \u001b[0mi\u001b[0m \u001b[0;32min\u001b[0m \u001b[0mrange\u001b[0m\u001b[0;34m(\u001b[0m\u001b[0;36m1\u001b[0m\u001b[0;34m,\u001b[0m\u001b[0mncutoff\u001b[0m\u001b[0;34m)\u001b[0m\u001b[0;34m:\u001b[0m\u001b[0;34m\u001b[0m\u001b[0m\n",
      "\u001b[0;31mValueError\u001b[0m: invalid literal for int() with base 10: 'AlCo'"
     ]
    }
   ],
   "source": [
    "apple.step(10,5,3)"
   ]
  },
  {
   "cell_type": "code",
   "execution_count": 48,
   "metadata": {},
   "outputs": [],
   "source": [
    "apple.players.sort(key=operator.attrgetter('index'))"
   ]
  },
  {
   "cell_type": "code",
   "execution_count": null,
   "metadata": {},
   "outputs": [],
   "source": [
    "for player in apple.players:\n",
    "    print(player.strategyhistory)\n",
    "\n"
   ]
  },
  {
   "cell_type": "code",
   "execution_count": 51,
   "metadata": {},
   "outputs": [
    {
     "ename": "TypeError",
     "evalue": "Image data can not convert to float",
     "output_type": "error",
     "traceback": [
      "\u001b[0;31m---------------------------------------------------------------------------\u001b[0m",
      "\u001b[0;31mTypeError\u001b[0m                                 Traceback (most recent call last)",
      "\u001b[0;32m<ipython-input-51-669f746b4c82>\u001b[0m in \u001b[0;36m<module>\u001b[0;34m()\u001b[0m\n\u001b[0;32m----> 1\u001b[0;31m \u001b[0mapple\u001b[0m\u001b[0;34m.\u001b[0m\u001b[0mdraw_activity\u001b[0m\u001b[0;34m(\u001b[0m\u001b[0;34m)\u001b[0m\u001b[0;34m\u001b[0m\u001b[0m\n\u001b[0m",
      "\u001b[0;32m<ipython-input-43-10af44e712ad>\u001b[0m in \u001b[0;36mdraw_activity\u001b[0;34m(self)\u001b[0m\n\u001b[1;32m    113\u001b[0m         \u001b[0mstates\u001b[0m \u001b[0;34m=\u001b[0m \u001b[0mnp\u001b[0m\u001b[0;34m.\u001b[0m\u001b[0mvstack\u001b[0m\u001b[0;34m(\u001b[0m\u001b[0mself\u001b[0m\u001b[0;34m.\u001b[0m\u001b[0mhistories\u001b[0m\u001b[0;34m)\u001b[0m\u001b[0;34m.\u001b[0m\u001b[0mT\u001b[0m\u001b[0;34m\u001b[0m\u001b[0m\n\u001b[1;32m    114\u001b[0m         \u001b[0mfig\u001b[0m \u001b[0;34m=\u001b[0m \u001b[0mplt\u001b[0m\u001b[0;34m.\u001b[0m\u001b[0mfigure\u001b[0m\u001b[0;34m(\u001b[0m\u001b[0mfigsize\u001b[0m\u001b[0;34m=\u001b[0m\u001b[0;34m(\u001b[0m\u001b[0;36m16\u001b[0m\u001b[0;34m,\u001b[0m \u001b[0;36m8\u001b[0m\u001b[0;34m)\u001b[0m\u001b[0;34m)\u001b[0m\u001b[0;34m\u001b[0m\u001b[0m\n\u001b[0;32m--> 115\u001b[0;31m         \u001b[0mplt\u001b[0m\u001b[0;34m.\u001b[0m\u001b[0mimshow\u001b[0m\u001b[0;34m(\u001b[0m\u001b[0mstates\u001b[0m\u001b[0;34m,\u001b[0m \u001b[0morigin\u001b[0m\u001b[0;34m=\u001b[0m\u001b[0;34m'upper'\u001b[0m\u001b[0;34m,\u001b[0m\u001b[0mcmap\u001b[0m\u001b[0;34m=\u001b[0m\u001b[0;34m'Greys'\u001b[0m\u001b[0;34m,\u001b[0m\u001b[0minterpolation\u001b[0m\u001b[0;34m=\u001b[0m\u001b[0;34m'None'\u001b[0m\u001b[0;34m)\u001b[0m\u001b[0;34m\u001b[0m\u001b[0m\n\u001b[0m",
      "\u001b[0;32m/Users/BahtiZakirov/anaconda/lib/python2.7/site-packages/matplotlib/pyplot.pyc\u001b[0m in \u001b[0;36mimshow\u001b[0;34m(X, cmap, norm, aspect, interpolation, alpha, vmin, vmax, origin, extent, shape, filternorm, filterrad, imlim, resample, url, hold, data, **kwargs)\u001b[0m\n\u001b[1;32m   3027\u001b[0m                         \u001b[0mfilternorm\u001b[0m\u001b[0;34m=\u001b[0m\u001b[0mfilternorm\u001b[0m\u001b[0;34m,\u001b[0m \u001b[0mfilterrad\u001b[0m\u001b[0;34m=\u001b[0m\u001b[0mfilterrad\u001b[0m\u001b[0;34m,\u001b[0m\u001b[0;34m\u001b[0m\u001b[0m\n\u001b[1;32m   3028\u001b[0m                         \u001b[0mimlim\u001b[0m\u001b[0;34m=\u001b[0m\u001b[0mimlim\u001b[0m\u001b[0;34m,\u001b[0m \u001b[0mresample\u001b[0m\u001b[0;34m=\u001b[0m\u001b[0mresample\u001b[0m\u001b[0;34m,\u001b[0m \u001b[0murl\u001b[0m\u001b[0;34m=\u001b[0m\u001b[0murl\u001b[0m\u001b[0;34m,\u001b[0m \u001b[0mdata\u001b[0m\u001b[0;34m=\u001b[0m\u001b[0mdata\u001b[0m\u001b[0;34m,\u001b[0m\u001b[0;34m\u001b[0m\u001b[0m\n\u001b[0;32m-> 3029\u001b[0;31m                         **kwargs)\n\u001b[0m\u001b[1;32m   3030\u001b[0m     \u001b[0;32mfinally\u001b[0m\u001b[0;34m:\u001b[0m\u001b[0;34m\u001b[0m\u001b[0m\n\u001b[1;32m   3031\u001b[0m         \u001b[0max\u001b[0m\u001b[0;34m.\u001b[0m\u001b[0mhold\u001b[0m\u001b[0;34m(\u001b[0m\u001b[0mwashold\u001b[0m\u001b[0;34m)\u001b[0m\u001b[0;34m\u001b[0m\u001b[0m\n",
      "\u001b[0;32m/Users/BahtiZakirov/anaconda/lib/python2.7/site-packages/matplotlib/__init__.pyc\u001b[0m in \u001b[0;36minner\u001b[0;34m(ax, *args, **kwargs)\u001b[0m\n\u001b[1;32m   1817\u001b[0m                     warnings.warn(msg % (label_namer, func.__name__),\n\u001b[1;32m   1818\u001b[0m                                   RuntimeWarning, stacklevel=2)\n\u001b[0;32m-> 1819\u001b[0;31m             \u001b[0;32mreturn\u001b[0m \u001b[0mfunc\u001b[0m\u001b[0;34m(\u001b[0m\u001b[0max\u001b[0m\u001b[0;34m,\u001b[0m \u001b[0;34m*\u001b[0m\u001b[0margs\u001b[0m\u001b[0;34m,\u001b[0m \u001b[0;34m**\u001b[0m\u001b[0mkwargs\u001b[0m\u001b[0;34m)\u001b[0m\u001b[0;34m\u001b[0m\u001b[0m\n\u001b[0m\u001b[1;32m   1820\u001b[0m         \u001b[0mpre_doc\u001b[0m \u001b[0;34m=\u001b[0m \u001b[0minner\u001b[0m\u001b[0;34m.\u001b[0m\u001b[0m__doc__\u001b[0m\u001b[0;34m\u001b[0m\u001b[0m\n\u001b[1;32m   1821\u001b[0m         \u001b[0;32mif\u001b[0m \u001b[0mpre_doc\u001b[0m \u001b[0;32mis\u001b[0m \u001b[0mNone\u001b[0m\u001b[0;34m:\u001b[0m\u001b[0;34m\u001b[0m\u001b[0m\n",
      "\u001b[0;32m/Users/BahtiZakirov/anaconda/lib/python2.7/site-packages/matplotlib/axes/_axes.pyc\u001b[0m in \u001b[0;36mimshow\u001b[0;34m(self, X, cmap, norm, aspect, interpolation, alpha, vmin, vmax, origin, extent, shape, filternorm, filterrad, imlim, resample, url, **kwargs)\u001b[0m\n\u001b[1;32m   4920\u001b[0m                               resample=resample, **kwargs)\n\u001b[1;32m   4921\u001b[0m \u001b[0;34m\u001b[0m\u001b[0m\n\u001b[0;32m-> 4922\u001b[0;31m         \u001b[0mim\u001b[0m\u001b[0;34m.\u001b[0m\u001b[0mset_data\u001b[0m\u001b[0;34m(\u001b[0m\u001b[0mX\u001b[0m\u001b[0;34m)\u001b[0m\u001b[0;34m\u001b[0m\u001b[0m\n\u001b[0m\u001b[1;32m   4923\u001b[0m         \u001b[0mim\u001b[0m\u001b[0;34m.\u001b[0m\u001b[0mset_alpha\u001b[0m\u001b[0;34m(\u001b[0m\u001b[0malpha\u001b[0m\u001b[0;34m)\u001b[0m\u001b[0;34m\u001b[0m\u001b[0m\n\u001b[1;32m   4924\u001b[0m         \u001b[0;32mif\u001b[0m \u001b[0mim\u001b[0m\u001b[0;34m.\u001b[0m\u001b[0mget_clip_path\u001b[0m\u001b[0;34m(\u001b[0m\u001b[0;34m)\u001b[0m \u001b[0;32mis\u001b[0m \u001b[0mNone\u001b[0m\u001b[0;34m:\u001b[0m\u001b[0;34m\u001b[0m\u001b[0m\n",
      "\u001b[0;32m/Users/BahtiZakirov/anaconda/lib/python2.7/site-packages/matplotlib/image.pyc\u001b[0m in \u001b[0;36mset_data\u001b[0;34m(self, A)\u001b[0m\n\u001b[1;32m    447\u001b[0m         if (self._A.dtype != np.uint8 and\n\u001b[1;32m    448\u001b[0m                 not np.can_cast(self._A.dtype, np.float)):\n\u001b[0;32m--> 449\u001b[0;31m             \u001b[0;32mraise\u001b[0m \u001b[0mTypeError\u001b[0m\u001b[0;34m(\u001b[0m\u001b[0;34m\"Image data can not convert to float\"\u001b[0m\u001b[0;34m)\u001b[0m\u001b[0;34m\u001b[0m\u001b[0m\n\u001b[0m\u001b[1;32m    450\u001b[0m \u001b[0;34m\u001b[0m\u001b[0m\n\u001b[1;32m    451\u001b[0m         if (self._A.ndim not in (2, 3) or\n",
      "\u001b[0;31mTypeError\u001b[0m: Image data can not convert to float"
     ]
    },
    {
     "data": {
      "image/png": "[encoded data removed]",
      "text/plain": [
       "<matplotlib.figure.Figure at 0x105faa090>"
      ]
     },
     "metadata": {},
     "output_type": "display_data"
    }
   ],
   "source": [
    "apple.draw_activity()"
   ]
  },
  {
   "cell_type": "markdown",
   "metadata": {},
   "source": [
    "## TODO\n",
    "-Add more strategies\n",
    "\n",
    "-maybe do an RBN type plot in 6 colors?\n",
    "\n",
    "-Find meaningful interaction of agents. maybe a chaotic phase? Maybe a computer can be made to do that?\n",
    "\n",
    "-Add % to make mistake\n",
    "\n",
    "-compare to Nicky's game\n",
    "\n",
    "-Number of agents actually changing is less than the number I want. Look over that."
   ]
  },
  {
   "cell_type": "code",
   "execution_count": null,
   "metadata": {},
   "outputs": [],
   "source": [
    "plt.imshow(player.strategyhistory)\n"
   ]
  },
  {
   "cell_type": "code",
   "execution_count": null,
   "metadata": {},
   "outputs": [],
   "source": [
    "for player in apple.players:\n",
    "    print(player.strategyhistory)\n",
    "\n",
    "\n"
   ]
  },
  {
   "cell_type": "code",
   "execution_count": 12,
   "metadata": {},
   "outputs": [],
   "source": [
    "a= np.array([1])"
   ]
  },
  {
   "cell_type": "code",
   "execution_count": 15,
   "metadata": {},
   "outputs": [
    {
     "data": {
      "text/plain": [
       "\u001b[0;31mSignature:\u001b[0m \u001b[0mnp\u001b[0m\u001b[0;34m.\u001b[0m\u001b[0msort\u001b[0m\u001b[0;34m(\u001b[0m\u001b[0ma\u001b[0m\u001b[0;34m,\u001b[0m \u001b[0maxis\u001b[0m\u001b[0;34m=\u001b[0m\u001b[0;34m-\u001b[0m\u001b[0;36m1\u001b[0m\u001b[0;34m,\u001b[0m \u001b[0mkind\u001b[0m\u001b[0;34m=\u001b[0m\u001b[0;34m'quicksort'\u001b[0m\u001b[0;34m,\u001b[0m \u001b[0morder\u001b[0m\u001b[0;34m=\u001b[0m\u001b[0mNone\u001b[0m\u001b[0;34m)\u001b[0m\u001b[0;34m\u001b[0m\u001b[0m\n",
       "\u001b[0;31mDocstring:\u001b[0m\n",
       "Return a sorted copy of an array.\n",
       "\n",
       "Parameters\n",
       "----------\n",
       "a : array_like\n",
       "    Array to be sorted.\n",
       "axis : int or None, optional\n",
       "    Axis along which to sort. If None, the array is flattened before\n",
       "    sorting. The default is -1, which sorts along the last axis.\n",
       "kind : {'quicksort', 'mergesort', 'heapsort'}, optional\n",
       "    Sorting algorithm. Default is 'quicksort'.\n",
       "order : str or list of str, optional\n",
       "    When `a` is an array with fields defined, this argument specifies\n",
       "    which fields to compare first, second, etc.  A single field can\n",
       "    be specified as a string, and not all fields need be specified,\n",
       "    but unspecified fields will still be used, in the order in which\n",
       "    they come up in the dtype, to break ties.\n",
       "\n",
       "Returns\n",
       "-------\n",
       "sorted_array : ndarray\n",
       "    Array of the same type and shape as `a`.\n",
       "\n",
       "See Also\n",
       "--------\n",
       "ndarray.sort : Method to sort an array in-place.\n",
       "argsort : Indirect sort.\n",
       "lexsort : Indirect stable sort on multiple keys.\n",
       "searchsorted : Find elements in a sorted array.\n",
       "partition : Partial sort.\n",
       "\n",
       "Notes\n",
       "-----\n",
       "The various sorting algorithms are characterized by their average speed,\n",
       "worst case performance, work space size, and whether they are stable. A\n",
       "stable sort keeps items with the same key in the same relative\n",
       "order. The three available algorithms have the following\n",
       "properties:\n",
       "\n",
       "=========== ======= ============= ============ =======\n",
       "   kind      speed   worst case    work space  stable\n",
       "=========== ======= ============= ============ =======\n",
       "'quicksort'    1     O(n^2)            0          no\n",
       "'mergesort'    2     O(n*log(n))      ~n/2        yes\n",
       "'heapsort'     3     O(n*log(n))       0          no\n",
       "=========== ======= ============= ============ =======\n",
       "\n",
       "All the sort algorithms make temporary copies of the data when\n",
       "sorting along any but the last axis.  Consequently, sorting along\n",
       "the last axis is faster and uses less space than sorting along\n",
       "any other axis.\n",
       "\n",
       "The sort order for complex numbers is lexicographic. If both the real\n",
       "and imaginary parts are non-nan then the order is determined by the\n",
       "real parts except when they are equal, in which case the order is\n",
       "determined by the imaginary parts.\n",
       "\n",
       "Previous to numpy 1.4.0 sorting real and complex arrays containing nan\n",
       "values led to undefined behaviour. In numpy versions >= 1.4.0 nan\n",
       "values are sorted to the end. The extended sort order is:\n",
       "\n",
       "  * Real: [R, nan]\n",
       "  * Complex: [R + Rj, R + nanj, nan + Rj, nan + nanj]\n",
       "\n",
       "where R is a non-nan real value. Complex values with the same nan\n",
       "placements are sorted according to the non-nan part if it exists.\n",
       "Non-nan values are sorted as before.\n",
       "\n",
       ".. versionadded:: 1.12.0\n",
       "\n",
       "quicksort has been changed to an introsort which will switch\n",
       "heapsort when it does not make enough progress. This makes its\n",
       "worst case O(n*log(n)).\n",
       "\n",
       "Examples\n",
       "--------\n",
       ">>> a = np.array([[1,4],[3,1]])\n",
       ">>> np.sort(a)                # sort along the last axis\n",
       "array([[1, 4],\n",
       "       [1, 3]])\n",
       ">>> np.sort(a, axis=None)     # sort the flattened array\n",
       "array([1, 1, 3, 4])\n",
       ">>> np.sort(a, axis=0)        # sort along the first axis\n",
       "array([[1, 1],\n",
       "       [3, 4]])\n",
       "\n",
       "Use the `order` keyword to specify a field to use when sorting a\n",
       "structured array:\n",
       "\n",
       ">>> dtype = [('name', 'S10'), ('height', float), ('age', int)]\n",
       ">>> values = [('Arthur', 1.8, 41), ('Lancelot', 1.9, 38),\n",
       "...           ('Galahad', 1.7, 38)]\n",
       ">>> a = np.array(values, dtype=dtype)       # create a structured array\n",
       ">>> np.sort(a, order='height')                        # doctest: +SKIP\n",
       "array([('Galahad', 1.7, 38), ('Arthur', 1.8, 41),\n",
       "       ('Lancelot', 1.8999999999999999, 38)],\n",
       "      dtype=[('name', '|S10'), ('height', '<f8'), ('age', '<i4')])\n",
       "\n",
       "Sort by age, then height if ages are equal:\n",
       "\n",
       ">>> np.sort(a, order=['age', 'height'])               # doctest: +SKIP\n",
       "array([('Galahad', 1.7, 38), ('Lancelot', 1.8999999999999999, 38),\n",
       "       ('Arthur', 1.8, 41)],\n",
       "      dtype=[('name', '|S10'), ('height', '<f8'), ('age', '<i4')])\n",
       "\u001b[0;31mFile:\u001b[0m      ~/anaconda/lib/python2.7/site-packages/numpy/core/fromnumeric.py\n",
       "\u001b[0;31mType:\u001b[0m      function\n"
      ]
     },
     "metadata": {},
     "output_type": "display_data"
    }
   ],
   "source": [
    "np.sort?\n"
   ]
  },
  {
   "cell_type": "code",
   "execution_count": 36,
   "metadata": {},
   "outputs": [],
   "source": [
    "a=range(10)\n",
    "a=np.array(a)"
   ]
  },
  {
   "cell_type": "code",
   "execution_count": 40,
   "metadata": {},
   "outputs": [],
   "source": [
    "a[-1*np.arange(1,6)] = a[(np.arange(1,6)-1)]\n",
    "%timeit"
   ]
  },
  {
   "cell_type": "code",
   "execution_count": 38,
   "metadata": {},
   "outputs": [
    {
     "data": {
      "text/plain": [
       "array([0, 1, 2, 3, 4, 4, 3, 2, 1, 0])"
      ]
     },
     "execution_count": 38,
     "metadata": {},
     "output_type": "execute_result"
    }
   ],
   "source": [
    "a"
   ]
  },
  {
   "cell_type": "code",
   "execution_count": null,
   "metadata": {},
   "outputs": [],
   "source": []
  }
 ],
 "metadata": {
  "kernelspec": {
   "display_name": "Python [default]",
   "language": "python",
   "name": "python2"
  },
  "language_info": {
   "codemirror_mode": {
    "name": "ipython",
    "version": 2
   },
   "file_extension": ".py",
   "mimetype": "text/x-python",
   "name": "python",
   "nbconvert_exporter": "python",
   "pygments_lexer": "ipython2",
   "version": "2.7.12"
  }
 },
 "nbformat": 4,
 "nbformat_minor": 2
}
